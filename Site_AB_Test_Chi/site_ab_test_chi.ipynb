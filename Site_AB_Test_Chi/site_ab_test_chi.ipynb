{
 "cells": [
  {
   "cell_type": "markdown",
   "id": "6c874f2c-1753-4f45-9556-442f2255302c",
   "metadata": {},
   "source": [
    "# AB-Testing"
   ]
  },
  {
   "cell_type": "markdown",
   "id": "abc68db3-b35b-4381-933b-bc130d4a95f7",
   "metadata": {},
   "source": [
    "## Data"
   ]
  },
  {
   "cell_type": "markdown",
   "id": "4d3d1dc4-8120-4171-9a0f-317102280a0a",
   "metadata": {},
   "source": [
    "Self-declared biggest serial businesses company requested.  \n",
    "They have a new revolutionary design of their site with the intention to increase their current conversion rates of 12% to 13,5% or more.  \n",
    "So we have to perform ab-test analysis to make a fundamental decision: keep the old design site or introduce the new one.  \n",
    "At our disposal there is a dataset with information about users and their conversion."
   ]
  },
  {
   "cell_type": "markdown",
   "id": "85774909-e872-42c0-96bb-f28c1894067f",
   "metadata": {},
   "source": [
    "## Task"
   ]
  },
  {
   "cell_type": "markdown",
   "id": "d0d4471c-6b8b-41e2-80d4-e1e931ed024f",
   "metadata": {},
   "source": [
    "Make a decision about more attractive design"
   ]
  },
  {
   "cell_type": "markdown",
   "id": "284edace-2aff-4e9d-a4e5-8f693ff4f151",
   "metadata": {},
   "source": [
    "## Designing the Experiment"
   ]
  },
  {
   "cell_type": "markdown",
   "id": "bbf8bde5-e17a-4916-95b2-d2de23f864d8",
   "metadata": {},
   "source": [
    "Formulating an experiment.  \n",
    "\n",
    "We don’t know if the new design will be same, better or worse as our control design, so let`s choose a two-tailed test.  \n",
    "\n",
    "H0: There is no statistically significant difference between conversion rate in control (old site) and test (new site) groups (m0 != m1).  \n",
    "\n",
    "H1: There is statistically significant difference between conversion rate in control (old site) and test (new site) groups (m0 = m1).\n",
    "\n",
    "Let`s set a convidence level of 95%.  \n",
    "\n",
    "Here we have discrete metrics，known also as binomial metrics, that have only two values (0 or 1), such as click-through rate (CTR), conversion rate (CR), bounce rate and etc. That`s why **Pearson's chi-square test** is much better to be chosen.  "
   ]
  },
  {
   "cell_type": "markdown",
   "id": "908d5103-48cf-484e-b99b-7763a4a63596",
   "metadata": {},
   "source": [
    "## First Look at Data"
   ]
  },
  {
   "cell_type": "code",
   "execution_count": 1,
   "id": "585376ea-e450-4916-85c3-95e2c953e923",
   "metadata": {},
   "outputs": [],
   "source": [
    "import pandas as pd\n",
    "import numpy as np\n",
    "import matplotlib as mpl\n",
    "from matplotlib import pyplot as plt\n",
    "from pylab import rcParams\n",
    "%matplotlib inline\n",
    "import seaborn as sns\n",
    "import datetime\n",
    "\n",
    "import scipy.stats as st\n",
    "import statsmodels.stats.api as sms\n",
    "\n",
    "import statsmodels.stats.proportion as proportion\n",
    "from statsmodels.stats.proportion import proportions_ztest, proportion_confint\n",
    "\n",
    "from math import ceil\n",
    "\n",
    "import warnings\n",
    "warnings.filterwarnings('ignore')"
   ]
  },
  {
   "cell_type": "code",
   "execution_count": 2,
   "id": "a991ebf0-0f5d-4573-8592-205b4b96bd95",
   "metadata": {},
   "outputs": [],
   "source": [
    "df = pd.read_csv('https://raw.githubusercontent.com/aaubs/data_science_master/main/data/ab_data.csv', parse_dates=[1])"
   ]
  },
  {
   "cell_type": "code",
   "execution_count": 3,
   "id": "d15763c6-3936-475f-b2c3-85118818a39a",
   "metadata": {},
   "outputs": [
    {
     "data": {
      "text/html": [
       "<div>\n",
       "<style scoped>\n",
       "    .dataframe tbody tr th:only-of-type {\n",
       "        vertical-align: middle;\n",
       "    }\n",
       "\n",
       "    .dataframe tbody tr th {\n",
       "        vertical-align: top;\n",
       "    }\n",
       "\n",
       "    .dataframe thead th {\n",
       "        text-align: right;\n",
       "    }\n",
       "</style>\n",
       "<table border=\"1\" class=\"dataframe\">\n",
       "  <thead>\n",
       "    <tr style=\"text-align: right;\">\n",
       "      <th></th>\n",
       "      <th>user_id</th>\n",
       "      <th>timestamp</th>\n",
       "      <th>group</th>\n",
       "      <th>landing_page</th>\n",
       "      <th>converted</th>\n",
       "    </tr>\n",
       "  </thead>\n",
       "  <tbody>\n",
       "    <tr>\n",
       "      <th>0</th>\n",
       "      <td>851104</td>\n",
       "      <td>2017-01-21 22:11:48.556739</td>\n",
       "      <td>control</td>\n",
       "      <td>old_page</td>\n",
       "      <td>0</td>\n",
       "    </tr>\n",
       "    <tr>\n",
       "      <th>1</th>\n",
       "      <td>804228</td>\n",
       "      <td>2017-01-12 08:01:45.159739</td>\n",
       "      <td>control</td>\n",
       "      <td>old_page</td>\n",
       "      <td>0</td>\n",
       "    </tr>\n",
       "    <tr>\n",
       "      <th>2</th>\n",
       "      <td>661590</td>\n",
       "      <td>2017-01-11 16:55:06.154213</td>\n",
       "      <td>treatment</td>\n",
       "      <td>new_page</td>\n",
       "      <td>0</td>\n",
       "    </tr>\n",
       "    <tr>\n",
       "      <th>3</th>\n",
       "      <td>853541</td>\n",
       "      <td>2017-01-08 18:28:03.143765</td>\n",
       "      <td>treatment</td>\n",
       "      <td>new_page</td>\n",
       "      <td>0</td>\n",
       "    </tr>\n",
       "    <tr>\n",
       "      <th>4</th>\n",
       "      <td>864975</td>\n",
       "      <td>2017-01-21 01:52:26.210827</td>\n",
       "      <td>control</td>\n",
       "      <td>old_page</td>\n",
       "      <td>1</td>\n",
       "    </tr>\n",
       "  </tbody>\n",
       "</table>\n",
       "</div>"
      ],
      "text/plain": [
       "   user_id                  timestamp      group landing_page  converted\n",
       "0   851104 2017-01-21 22:11:48.556739    control     old_page          0\n",
       "1   804228 2017-01-12 08:01:45.159739    control     old_page          0\n",
       "2   661590 2017-01-11 16:55:06.154213  treatment     new_page          0\n",
       "3   853541 2017-01-08 18:28:03.143765  treatment     new_page          0\n",
       "4   864975 2017-01-21 01:52:26.210827    control     old_page          1"
      ]
     },
     "execution_count": 3,
     "metadata": {},
     "output_type": "execute_result"
    }
   ],
   "source": [
    "df.head()"
   ]
  },
  {
   "cell_type": "code",
   "execution_count": 4,
   "id": "9c163987-f155-4921-bcb7-f63e6c927a34",
   "metadata": {},
   "outputs": [
    {
     "name": "stdout",
     "output_type": "stream",
     "text": [
      "<class 'pandas.core.frame.DataFrame'>\n",
      "RangeIndex: 294478 entries, 0 to 294477\n",
      "Data columns (total 5 columns):\n",
      " #   Column        Non-Null Count   Dtype         \n",
      "---  ------        --------------   -----         \n",
      " 0   user_id       294478 non-null  int64         \n",
      " 1   timestamp     294478 non-null  datetime64[ns]\n",
      " 2   group         294478 non-null  object        \n",
      " 3   landing_page  294478 non-null  object        \n",
      " 4   converted     294478 non-null  int64         \n",
      "dtypes: datetime64[ns](1), int64(2), object(2)\n",
      "memory usage: 11.2+ MB\n"
     ]
    }
   ],
   "source": [
    "df.info()"
   ]
  },
  {
   "cell_type": "markdown",
   "id": "49de2ee4-5caa-44ab-bdd4-6686d4bff4d9",
   "metadata": {},
   "source": [
    "Here we have 294 478 rows and 5 columns:\n",
    "\n",
    "- 'user_id' with user id (int64)    \n",
    "- 'timestamp' with the beginning of the session (datetime)  \n",
    "- 'group' with 2 variables: control and treatment (object)  \n",
    "- 'landing_page' with version of a site: old page and new page (object)  \n",
    "- 'converted': if user made a purchase (1) or not (0) (int64)"
   ]
  },
  {
   "cell_type": "markdown",
   "id": "66faa549-4aef-4700-9a48-63099566282e",
   "metadata": {},
   "source": [
    "## Data Preprocessing"
   ]
  },
  {
   "cell_type": "markdown",
   "id": "9d9859eb-da2b-4e0e-87f4-e59cdfb0b672",
   "metadata": {},
   "source": [
    "Let us check for the nan values."
   ]
  },
  {
   "cell_type": "code",
   "execution_count": 5,
   "id": "1d00557d-8b3c-4098-a3bd-351a82ca9ecb",
   "metadata": {},
   "outputs": [
    {
     "data": {
      "text/plain": [
       "user_id         0\n",
       "timestamp       0\n",
       "group           0\n",
       "landing_page    0\n",
       "converted       0\n",
       "dtype: int64"
      ]
     },
     "execution_count": 5,
     "metadata": {},
     "output_type": "execute_result"
    }
   ],
   "source": [
    "df.isna().sum()"
   ]
  },
  {
   "cell_type": "markdown",
   "id": "771ecbcd-6cd8-4253-8042-cde130b4a36b",
   "metadata": {},
   "source": [
    "There is no missing values."
   ]
  },
  {
   "cell_type": "markdown",
   "id": "9afb1580-ff97-4f01-8c61-4af90b0b539b",
   "metadata": {},
   "source": [
    "Let's check for duplicates"
   ]
  },
  {
   "cell_type": "code",
   "execution_count": 6,
   "id": "78ae22c5-600c-4b23-b562-a9d5e3ba1846",
   "metadata": {},
   "outputs": [
    {
     "data": {
      "text/plain": [
       "0"
      ]
     },
     "execution_count": 6,
     "metadata": {},
     "output_type": "execute_result"
    }
   ],
   "source": [
    "df.duplicated().sum()"
   ]
  },
  {
   "cell_type": "markdown",
   "id": "5d167596-92d3-4565-a0e9-8829fc844aab",
   "metadata": {},
   "source": [
    "Let`s make sure there is no duplicated user_id"
   ]
  },
  {
   "cell_type": "code",
   "execution_count": 7,
   "id": "39b04ae1-dd98-41b3-bfb8-08a1b1bf4e93",
   "metadata": {},
   "outputs": [
    {
     "data": {
      "text/plain": [
       "user_id\n",
       "805339    2\n",
       "856917    2\n",
       "834370    2\n",
       "703112    2\n",
       "823617    2\n",
       "         ..\n",
       "911462    2\n",
       "734251    2\n",
       "826566    2\n",
       "687205    2\n",
       "700036    2\n",
       "Name: count, Length: 3894, dtype: int64"
      ]
     },
     "execution_count": 7,
     "metadata": {},
     "output_type": "execute_result"
    }
   ],
   "source": [
    "multi_users = df.user_id.value_counts().sort_values(ascending=False)\n",
    "multi_users[multi_users >= 2]"
   ]
  },
  {
   "cell_type": "code",
   "execution_count": 8,
   "id": "8f7a0637-fe00-40ff-a91e-ee4f0666019a",
   "metadata": {},
   "outputs": [],
   "source": [
    "dupli_ids = multi_users[multi_users >= 2].index"
   ]
  },
  {
   "cell_type": "code",
   "execution_count": 9,
   "id": "d41359c5-9aec-42a5-bef0-9c0edfcc11c6",
   "metadata": {},
   "outputs": [
    {
     "data": {
      "text/plain": [
       "98.7"
      ]
     },
     "execution_count": 9,
     "metadata": {},
     "output_type": "execute_result"
    }
   ],
   "source": [
    "round(100 - (dupli_ids.shape[0]/df.shape[0] * 100), 1)"
   ]
  },
  {
   "cell_type": "markdown",
   "id": "bb6a1e38-b85e-4e9e-82de-71505ee47240",
   "metadata": {},
   "source": [
    "We have a small percent of duplicated values, so we`ll just remove them"
   ]
  },
  {
   "cell_type": "code",
   "execution_count": 10,
   "id": "73d19768-da84-4f39-8b17-4a4988d2fe9a",
   "metadata": {},
   "outputs": [
    {
     "data": {
      "text/plain": [
       "Index([805339, 856917, 834370, 703112, 823617, 698120, 795297, 923199, 818738,\n",
       "       915110,\n",
       "       ...\n",
       "       839043, 647686, 929326, 678241, 763923, 911462, 734251, 826566, 687205,\n",
       "       700036],\n",
       "      dtype='int64', name='user_id', length=3894)"
      ]
     },
     "execution_count": 10,
     "metadata": {},
     "output_type": "execute_result"
    }
   ],
   "source": [
    "dupli_ids"
   ]
  },
  {
   "cell_type": "code",
   "execution_count": 11,
   "id": "a24ca08c-a809-4c62-8def-e6fd4ce69705",
   "metadata": {},
   "outputs": [],
   "source": [
    "df = df.query('user_id not in @dupli_ids').copy()"
   ]
  },
  {
   "cell_type": "markdown",
   "id": "748a1c79-8c66-41df-9e44-9fb4aef57b56",
   "metadata": {},
   "source": [
    "Let`s check that everything is correct"
   ]
  },
  {
   "cell_type": "code",
   "execution_count": 12,
   "id": "c3430ffd-9b16-4c54-b506-7abe9cad80cd",
   "metadata": {},
   "outputs": [
    {
     "data": {
      "text/plain": [
       "286690"
      ]
     },
     "metadata": {},
     "output_type": "display_data"
    }
   ],
   "source": [
    "display(df.shape[0])\n"
   ]
  },
  {
   "cell_type": "code",
   "execution_count": 13,
   "id": "c5efab57-c840-418c-867f-1581fe08a644",
   "metadata": {},
   "outputs": [
    {
     "data": {
      "text/html": [
       "<div>\n",
       "<style scoped>\n",
       "    .dataframe tbody tr th:only-of-type {\n",
       "        vertical-align: middle;\n",
       "    }\n",
       "\n",
       "    .dataframe tbody tr th {\n",
       "        vertical-align: top;\n",
       "    }\n",
       "\n",
       "    .dataframe thead th {\n",
       "        text-align: right;\n",
       "    }\n",
       "</style>\n",
       "<table border=\"1\" class=\"dataframe\">\n",
       "  <thead>\n",
       "    <tr style=\"text-align: right;\">\n",
       "      <th></th>\n",
       "      <th>user_id</th>\n",
       "      <th>timestamp</th>\n",
       "      <th>group</th>\n",
       "      <th>landing_page</th>\n",
       "      <th>converted</th>\n",
       "    </tr>\n",
       "  </thead>\n",
       "  <tbody>\n",
       "    <tr>\n",
       "      <th>0</th>\n",
       "      <td>851104</td>\n",
       "      <td>2017-01-21 22:11:48.556739</td>\n",
       "      <td>control</td>\n",
       "      <td>old_page</td>\n",
       "      <td>0</td>\n",
       "    </tr>\n",
       "    <tr>\n",
       "      <th>1</th>\n",
       "      <td>804228</td>\n",
       "      <td>2017-01-12 08:01:45.159739</td>\n",
       "      <td>control</td>\n",
       "      <td>old_page</td>\n",
       "      <td>0</td>\n",
       "    </tr>\n",
       "    <tr>\n",
       "      <th>2</th>\n",
       "      <td>661590</td>\n",
       "      <td>2017-01-11 16:55:06.154213</td>\n",
       "      <td>treatment</td>\n",
       "      <td>new_page</td>\n",
       "      <td>0</td>\n",
       "    </tr>\n",
       "    <tr>\n",
       "      <th>3</th>\n",
       "      <td>853541</td>\n",
       "      <td>2017-01-08 18:28:03.143765</td>\n",
       "      <td>treatment</td>\n",
       "      <td>new_page</td>\n",
       "      <td>0</td>\n",
       "    </tr>\n",
       "    <tr>\n",
       "      <th>4</th>\n",
       "      <td>864975</td>\n",
       "      <td>2017-01-21 01:52:26.210827</td>\n",
       "      <td>control</td>\n",
       "      <td>old_page</td>\n",
       "      <td>1</td>\n",
       "    </tr>\n",
       "  </tbody>\n",
       "</table>\n",
       "</div>"
      ],
      "text/plain": [
       "   user_id                  timestamp      group landing_page  converted\n",
       "0   851104 2017-01-21 22:11:48.556739    control     old_page          0\n",
       "1   804228 2017-01-12 08:01:45.159739    control     old_page          0\n",
       "2   661590 2017-01-11 16:55:06.154213  treatment     new_page          0\n",
       "3   853541 2017-01-08 18:28:03.143765  treatment     new_page          0\n",
       "4   864975 2017-01-21 01:52:26.210827    control     old_page          1"
      ]
     },
     "execution_count": 13,
     "metadata": {},
     "output_type": "execute_result"
    }
   ],
   "source": [
    "df.head()"
   ]
  },
  {
   "cell_type": "code",
   "execution_count": 14,
   "id": "b340a0c8-1082-46e4-84d7-a7260e1b47ff",
   "metadata": {},
   "outputs": [
    {
     "data": {
      "text/plain": [
       "0"
      ]
     },
     "execution_count": 14,
     "metadata": {},
     "output_type": "execute_result"
    }
   ],
   "source": [
    "df.user_id.duplicated().sum()"
   ]
  },
  {
   "cell_type": "code",
   "execution_count": 15,
   "id": "94e3f7b7-46c1-46d3-8741-120184310b80",
   "metadata": {},
   "outputs": [
    {
     "data": {
      "text/html": [
       "<div>\n",
       "<style scoped>\n",
       "    .dataframe tbody tr th:only-of-type {\n",
       "        vertical-align: middle;\n",
       "    }\n",
       "\n",
       "    .dataframe tbody tr th {\n",
       "        vertical-align: top;\n",
       "    }\n",
       "\n",
       "    .dataframe thead th {\n",
       "        text-align: right;\n",
       "    }\n",
       "</style>\n",
       "<table border=\"1\" class=\"dataframe\">\n",
       "  <thead>\n",
       "    <tr style=\"text-align: right;\">\n",
       "      <th></th>\n",
       "      <th>user_id</th>\n",
       "      <th>timestamp</th>\n",
       "      <th>group</th>\n",
       "      <th>landing_page</th>\n",
       "      <th>converted</th>\n",
       "    </tr>\n",
       "  </thead>\n",
       "  <tbody>\n",
       "  </tbody>\n",
       "</table>\n",
       "</div>"
      ],
      "text/plain": [
       "Empty DataFrame\n",
       "Columns: [user_id, timestamp, group, landing_page, converted]\n",
       "Index: []"
      ]
     },
     "execution_count": 15,
     "metadata": {},
     "output_type": "execute_result"
    }
   ],
   "source": [
    "df[df.user_id.duplicated()]"
   ]
  },
  {
   "cell_type": "markdown",
   "id": "6b5cbc7c-eb1a-49d7-b60c-90339a1e6130",
   "metadata": {},
   "source": [
    "Duplicated are gone"
   ]
  },
  {
   "cell_type": "markdown",
   "id": "c144a56e-04fd-47a0-8337-e2ac975566cd",
   "metadata": {},
   "source": [
    "Now we have to make sure that treatment group sees only the new page of the site."
   ]
  },
  {
   "cell_type": "code",
   "execution_count": 16,
   "id": "4451db22-6709-4683-a90a-58602ac4a1f0",
   "metadata": {},
   "outputs": [
    {
     "data": {
      "text/plain": [
       "143397"
      ]
     },
     "metadata": {},
     "output_type": "display_data"
    },
    {
     "data": {
      "text/plain": [
       "143397"
      ]
     },
     "execution_count": 16,
     "metadata": {},
     "output_type": "execute_result"
    }
   ],
   "source": [
    "display(df.query('group == \"treatment\"').shape[0])\n",
    "df.query('group == \"treatment\" & landing_page == \"new_page\"').shape[0]"
   ]
  },
  {
   "cell_type": "markdown",
   "id": "a5084884-c320-48fc-807e-de86366b3580",
   "metadata": {},
   "source": [
    "That`s right"
   ]
  },
  {
   "cell_type": "markdown",
   "id": "f39e3703-33b1-4880-800f-c4d014d1e760",
   "metadata": {},
   "source": [
    "## EDA"
   ]
  },
  {
   "cell_type": "code",
   "execution_count": 17,
   "id": "bfd9c764-3efa-4e7c-bb3a-8499569e96fc",
   "metadata": {},
   "outputs": [
    {
     "data": {
      "text/html": [
       "<div>\n",
       "<style scoped>\n",
       "    .dataframe tbody tr th:only-of-type {\n",
       "        vertical-align: middle;\n",
       "    }\n",
       "\n",
       "    .dataframe tbody tr th {\n",
       "        vertical-align: top;\n",
       "    }\n",
       "\n",
       "    .dataframe thead th {\n",
       "        text-align: right;\n",
       "    }\n",
       "</style>\n",
       "<table border=\"1\" class=\"dataframe\">\n",
       "  <thead>\n",
       "    <tr style=\"text-align: right;\">\n",
       "      <th></th>\n",
       "      <th>user_id</th>\n",
       "      <th>timestamp</th>\n",
       "      <th>group</th>\n",
       "      <th>landing_page</th>\n",
       "      <th>converted</th>\n",
       "    </tr>\n",
       "  </thead>\n",
       "  <tbody>\n",
       "    <tr>\n",
       "      <th>0</th>\n",
       "      <td>851104</td>\n",
       "      <td>2017-01-21 22:11:48.556739</td>\n",
       "      <td>control</td>\n",
       "      <td>old_page</td>\n",
       "      <td>0</td>\n",
       "    </tr>\n",
       "    <tr>\n",
       "      <th>1</th>\n",
       "      <td>804228</td>\n",
       "      <td>2017-01-12 08:01:45.159739</td>\n",
       "      <td>control</td>\n",
       "      <td>old_page</td>\n",
       "      <td>0</td>\n",
       "    </tr>\n",
       "    <tr>\n",
       "      <th>2</th>\n",
       "      <td>661590</td>\n",
       "      <td>2017-01-11 16:55:06.154213</td>\n",
       "      <td>treatment</td>\n",
       "      <td>new_page</td>\n",
       "      <td>0</td>\n",
       "    </tr>\n",
       "    <tr>\n",
       "      <th>3</th>\n",
       "      <td>853541</td>\n",
       "      <td>2017-01-08 18:28:03.143765</td>\n",
       "      <td>treatment</td>\n",
       "      <td>new_page</td>\n",
       "      <td>0</td>\n",
       "    </tr>\n",
       "    <tr>\n",
       "      <th>4</th>\n",
       "      <td>864975</td>\n",
       "      <td>2017-01-21 01:52:26.210827</td>\n",
       "      <td>control</td>\n",
       "      <td>old_page</td>\n",
       "      <td>1</td>\n",
       "    </tr>\n",
       "  </tbody>\n",
       "</table>\n",
       "</div>"
      ],
      "text/plain": [
       "   user_id                  timestamp      group landing_page  converted\n",
       "0   851104 2017-01-21 22:11:48.556739    control     old_page          0\n",
       "1   804228 2017-01-12 08:01:45.159739    control     old_page          0\n",
       "2   661590 2017-01-11 16:55:06.154213  treatment     new_page          0\n",
       "3   853541 2017-01-08 18:28:03.143765  treatment     new_page          0\n",
       "4   864975 2017-01-21 01:52:26.210827    control     old_page          1"
      ]
     },
     "execution_count": 17,
     "metadata": {},
     "output_type": "execute_result"
    }
   ],
   "source": [
    "df.head()"
   ]
  },
  {
   "cell_type": "markdown",
   "id": "f9761b7f-903e-4951-9e21-8d337dbc2829",
   "metadata": {},
   "source": [
    "Let`s look at the analysis period."
   ]
  },
  {
   "cell_type": "code",
   "execution_count": 18,
   "id": "37d28c05-e028-4e36-ae04-6da53e97754d",
   "metadata": {},
   "outputs": [],
   "source": [
    "df['date'] = pd.to_datetime(df['timestamp']).dt.normalize()"
   ]
  },
  {
   "cell_type": "code",
   "execution_count": 19,
   "id": "517ccd23-cd0c-4ce9-848d-8c5d460d9d96",
   "metadata": {},
   "outputs": [
    {
     "data": {
      "text/plain": [
       "Timestamp('2017-01-02 00:00:00')"
      ]
     },
     "metadata": {},
     "output_type": "display_data"
    },
    {
     "data": {
      "text/plain": [
       "Timestamp('2017-01-24 00:00:00')"
      ]
     },
     "metadata": {},
     "output_type": "display_data"
    }
   ],
   "source": [
    "display(df.date.min())\n",
    "display(df.date.max())"
   ]
  },
  {
   "cell_type": "markdown",
   "id": "cdf36519-8f6a-452b-a7c8-74ad0ebf54d6",
   "metadata": {},
   "source": [
    "It is 22 days between 2017-01-02 and 2017-01-24"
   ]
  },
  {
   "cell_type": "code",
   "execution_count": 20,
   "id": "26a38f61-fe87-4b0c-9923-d34da632e911",
   "metadata": {},
   "outputs": [
    {
     "name": "stdout",
     "output_type": "stream",
     "text": [
      "<class 'pandas.core.frame.DataFrame'>\n",
      "Index: 286690 entries, 0 to 294477\n",
      "Data columns (total 6 columns):\n",
      " #   Column        Non-Null Count   Dtype         \n",
      "---  ------        --------------   -----         \n",
      " 0   user_id       286690 non-null  int64         \n",
      " 1   timestamp     286690 non-null  datetime64[ns]\n",
      " 2   group         286690 non-null  object        \n",
      " 3   landing_page  286690 non-null  object        \n",
      " 4   converted     286690 non-null  int64         \n",
      " 5   date          286690 non-null  datetime64[ns]\n",
      "dtypes: datetime64[ns](2), int64(2), object(2)\n",
      "memory usage: 15.3+ MB\n"
     ]
    }
   ],
   "source": [
    "df.head()\n",
    "df.info()"
   ]
  },
  {
   "cell_type": "markdown",
   "id": "cf13d166-7b73-4c9f-94bf-00e2bf3cdd0a",
   "metadata": {},
   "source": [
    "We can make a mistake in our calculations if we won`t check the conversion at the last day"
   ]
  },
  {
   "cell_type": "code",
   "execution_count": 21,
   "id": "1963813b-2562-4223-92c4-214efe7004ac",
   "metadata": {},
   "outputs": [],
   "source": [
    "last_day = df.query('date == \"2017-01-24\"').copy()"
   ]
  },
  {
   "cell_type": "code",
   "execution_count": 22,
   "id": "edf5c6ce-572d-45e3-a624-7f25c253052a",
   "metadata": {},
   "outputs": [
    {
     "data": {
      "text/plain": [
       "date\n",
       "2017-01-24    7345\n",
       "Name: count, dtype: int64"
      ]
     },
     "execution_count": 22,
     "metadata": {},
     "output_type": "execute_result"
    }
   ],
   "source": [
    "last_day.date.value_counts()"
   ]
  },
  {
   "cell_type": "code",
   "execution_count": 23,
   "id": "06138072-136b-433b-8a9a-b7f61871998a",
   "metadata": {},
   "outputs": [
    {
     "data": {
      "text/plain": [
       "11.79"
      ]
     },
     "execution_count": 23,
     "metadata": {},
     "output_type": "execute_result"
    }
   ],
   "source": [
    "round(last_day.query('group == \"control\"')['converted'].mean() * 100, 2)"
   ]
  },
  {
   "cell_type": "code",
   "execution_count": 24,
   "id": "018c8cca-3394-4059-b665-daa76b2d1f27",
   "metadata": {},
   "outputs": [
    {
     "data": {
      "text/plain": [
       "11.98"
      ]
     },
     "execution_count": 24,
     "metadata": {},
     "output_type": "execute_result"
    }
   ],
   "source": [
    "round(last_day.query('group == \"treatment\"')['converted'].mean() * 100, 2)"
   ]
  },
  {
   "cell_type": "markdown",
   "id": "c8d7012f-3a86-4536-9a05-7a4fc6edd825",
   "metadata": {},
   "source": [
    "There is no some strange values, so let it be"
   ]
  },
  {
   "cell_type": "markdown",
   "id": "98c968b1-155a-4dbf-a0c1-65089994e90e",
   "metadata": {},
   "source": [
    "Let`s count the conversion rate in the control group of whole dataframe"
   ]
  },
  {
   "cell_type": "code",
   "execution_count": 25,
   "id": "05ce95c2-eac1-4415-ba46-6e02f2ac59d4",
   "metadata": {},
   "outputs": [
    {
     "data": {
      "text/plain": [
       "12.02"
      ]
     },
     "execution_count": 25,
     "metadata": {},
     "output_type": "execute_result"
    }
   ],
   "source": [
    "round((df.query('group == \"control\" & converted == 1').shape[0] / df[df.group == 'control'].shape[0]) * 100, 2)"
   ]
  },
  {
   "cell_type": "markdown",
   "id": "07fb74f2-e19f-48fd-9a2c-f6a7d45ce2cd",
   "metadata": {},
   "source": [
    "Let`s count the conversion rate in the treatment group of whole dataframe"
   ]
  },
  {
   "cell_type": "code",
   "execution_count": 26,
   "id": "6b484135-57cc-4d15-9fe2-ab60695281a5",
   "metadata": {},
   "outputs": [
    {
     "data": {
      "text/plain": [
       "11.87"
      ]
     },
     "execution_count": 26,
     "metadata": {},
     "output_type": "execute_result"
    }
   ],
   "source": [
    "round(df.query('group ==\"treatment\"')['converted'].mean() * 100, 2)"
   ]
  },
  {
   "cell_type": "code",
   "execution_count": 27,
   "id": "c421ae32-470f-44eb-a0ff-49e70ed7b216",
   "metadata": {},
   "outputs": [
    {
     "data": {
      "text/plain": [
       "[Text(0.5, 1.0, 'Convertsion rate for each group'),\n",
       " Text(0, 0.5, 'Conversion Rate')]"
      ]
     },
     "execution_count": 27,
     "metadata": {},
     "output_type": "execute_result"
    },
    {
     "data": {
      "image/png": "[encoded data removed]",
      "text/plain": [
       "<Figure size 1500x500 with 2 Axes>"
      ]
     },
     "metadata": {},
     "output_type": "display_data"
    }
   ],
   "source": [
    "rcParams['figure.figsize'] = 15, 5\n",
    "\n",
    "fig, ax = plt.subplots(1,2)\n",
    "\n",
    "sns.countplot(df, x=\"converted\", hue=\"group\", ax=ax[0])\n",
    "ax[0].set(title=\"Conversion rate for each group\", ylabel=\"Users Count\")\n",
    "\n",
    "sns.pointplot(df, x=\"group\", y=\"converted\", ax=ax[1])\n",
    "ax[1].set_ylim([0.115, 0.125])\n",
    "ax[1].set(title=\"Convertsion rate for each group\", ylabel=\"Conversion Rate\")"
   ]
  },
  {
   "cell_type": "markdown",
   "id": "b06ccb7b-fb4d-4498-96c8-1ea0940509ed",
   "metadata": {},
   "source": [
    "In fact, the treatment group shows us worse result.  \n",
    "But what if it was received by accident."
   ]
  },
  {
   "cell_type": "markdown",
   "id": "45aa0d42-524f-475e-b4c4-79a0525e379f",
   "metadata": {},
   "source": [
    "## Sampling"
   ]
  },
  {
   "cell_type": "markdown",
   "id": "d68769f0-812f-4c8a-aa17-0f0745e50993",
   "metadata": {},
   "source": [
    "Let`s set the conversion rate on the level of 12%. We would like to increase our metric to 13,5%.  \n",
    "Therefore, we created A/B-test to ensure that a new version of a site will certainly increase the conversion."
   ]
  },
  {
   "cell_type": "code",
   "execution_count": 28,
   "id": "f95ae8a2-2be9-4f90-bd12-1884d83fa865",
   "metadata": {},
   "outputs": [
    {
     "name": "stdout",
     "output_type": "stream",
     "text": [
      "10382\n"
     ]
    }
   ],
   "source": [
    "# Calculating effect size based on our expected rates\n",
    "effect_size = sms.proportion_effectsize(0.12, 0.135)\n",
    "\n",
    "sample_size = (sms.NormalIndPower()\n",
    "              .solve_power(effect_size, \n",
    "                           power=0.9,  #power of a test (defualt is 0.8)\n",
    "                           alpha=0.05, #p-value\n",
    "                           ratio=1\n",
    "                          )\n",
    "             )\n",
    "\n",
    "sample_size = ceil(sample_size)\n",
    "print(sample_size)"
   ]
  },
  {
   "cell_type": "code",
   "execution_count": 29,
   "id": "cf6ab8b7-8e4c-43c1-a09b-66c785720c3a",
   "metadata": {},
   "outputs": [],
   "source": [
    "control = df.query('group == \"control\"').sample(sample_size)\n",
    "test = df.query('group == \"treatment\"').sample(sample_size)"
   ]
  },
  {
   "cell_type": "markdown",
   "id": "e5eb2dbe-6ea6-453e-9a1c-3cb14c927f53",
   "metadata": {},
   "source": [
    "Let`s check if everything is okay."
   ]
  },
  {
   "cell_type": "code",
   "execution_count": 30,
   "id": "c1418dae-317f-441c-a83f-cf63c4c8074f",
   "metadata": {},
   "outputs": [
    {
     "data": {
      "text/plain": [
       "10382"
      ]
     },
     "metadata": {},
     "output_type": "display_data"
    },
    {
     "data": {
      "text/plain": [
       "10382"
      ]
     },
     "execution_count": 30,
     "metadata": {},
     "output_type": "execute_result"
    }
   ],
   "source": [
    "display(control.shape[0])\n",
    "test.shape[0]"
   ]
  },
  {
   "cell_type": "markdown",
   "id": "24b5bd7c-4364-4b99-bda4-95f555204c85",
   "metadata": {},
   "source": [
    "Now we will concatenate them"
   ]
  },
  {
   "cell_type": "code",
   "execution_count": 31,
   "id": "c787219f-d160-4948-9c32-2a67e62a3b04",
   "metadata": {},
   "outputs": [],
   "source": [
    "ab = pd.concat([control, test], axis = 0).reset_index()"
   ]
  },
  {
   "cell_type": "code",
   "execution_count": 32,
   "id": "f729a619-5e27-431a-bae6-81b7eb6dc4da",
   "metadata": {},
   "outputs": [
    {
     "data": {
      "text/html": [
       "<div>\n",
       "<style scoped>\n",
       "    .dataframe tbody tr th:only-of-type {\n",
       "        vertical-align: middle;\n",
       "    }\n",
       "\n",
       "    .dataframe tbody tr th {\n",
       "        vertical-align: top;\n",
       "    }\n",
       "\n",
       "    .dataframe thead th {\n",
       "        text-align: right;\n",
       "    }\n",
       "</style>\n",
       "<table border=\"1\" class=\"dataframe\">\n",
       "  <thead>\n",
       "    <tr style=\"text-align: right;\">\n",
       "      <th></th>\n",
       "      <th>index</th>\n",
       "      <th>user_id</th>\n",
       "      <th>timestamp</th>\n",
       "      <th>group</th>\n",
       "      <th>landing_page</th>\n",
       "      <th>converted</th>\n",
       "      <th>date</th>\n",
       "    </tr>\n",
       "  </thead>\n",
       "  <tbody>\n",
       "    <tr>\n",
       "      <th>0</th>\n",
       "      <td>227926</td>\n",
       "      <td>732322</td>\n",
       "      <td>2017-01-15 04:03:47.881581</td>\n",
       "      <td>control</td>\n",
       "      <td>old_page</td>\n",
       "      <td>0</td>\n",
       "      <td>2017-01-15</td>\n",
       "    </tr>\n",
       "    <tr>\n",
       "      <th>1</th>\n",
       "      <td>18591</td>\n",
       "      <td>832030</td>\n",
       "      <td>2017-01-22 16:23:21.401476</td>\n",
       "      <td>control</td>\n",
       "      <td>old_page</td>\n",
       "      <td>0</td>\n",
       "      <td>2017-01-22</td>\n",
       "    </tr>\n",
       "    <tr>\n",
       "      <th>2</th>\n",
       "      <td>243285</td>\n",
       "      <td>683410</td>\n",
       "      <td>2017-01-22 18:13:04.294829</td>\n",
       "      <td>control</td>\n",
       "      <td>old_page</td>\n",
       "      <td>0</td>\n",
       "      <td>2017-01-22</td>\n",
       "    </tr>\n",
       "    <tr>\n",
       "      <th>3</th>\n",
       "      <td>47413</td>\n",
       "      <td>766641</td>\n",
       "      <td>2017-01-10 01:19:05.100824</td>\n",
       "      <td>control</td>\n",
       "      <td>old_page</td>\n",
       "      <td>0</td>\n",
       "      <td>2017-01-10</td>\n",
       "    </tr>\n",
       "    <tr>\n",
       "      <th>4</th>\n",
       "      <td>227460</td>\n",
       "      <td>837647</td>\n",
       "      <td>2017-01-16 12:28:11.167648</td>\n",
       "      <td>control</td>\n",
       "      <td>old_page</td>\n",
       "      <td>0</td>\n",
       "      <td>2017-01-16</td>\n",
       "    </tr>\n",
       "  </tbody>\n",
       "</table>\n",
       "</div>"
      ],
      "text/plain": [
       "    index  user_id                  timestamp    group landing_page  \\\n",
       "0  227926   732322 2017-01-15 04:03:47.881581  control     old_page   \n",
       "1   18591   832030 2017-01-22 16:23:21.401476  control     old_page   \n",
       "2  243285   683410 2017-01-22 18:13:04.294829  control     old_page   \n",
       "3   47413   766641 2017-01-10 01:19:05.100824  control     old_page   \n",
       "4  227460   837647 2017-01-16 12:28:11.167648  control     old_page   \n",
       "\n",
       "   converted       date  \n",
       "0          0 2017-01-15  \n",
       "1          0 2017-01-22  \n",
       "2          0 2017-01-22  \n",
       "3          0 2017-01-10  \n",
       "4          0 2017-01-16  "
      ]
     },
     "metadata": {},
     "output_type": "display_data"
    },
    {
     "data": {
      "text/plain": [
       "20764"
      ]
     },
     "execution_count": 32,
     "metadata": {},
     "output_type": "execute_result"
    }
   ],
   "source": [
    "display(ab.head())\n",
    "ab.shape[0]"
   ]
  },
  {
   "cell_type": "code",
   "execution_count": 33,
   "id": "b1722b32-4a6c-404b-b5b4-52b50161930d",
   "metadata": {},
   "outputs": [
    {
     "data": {
      "text/plain": [
       "group\n",
       "control      10382\n",
       "treatment    10382\n",
       "Name: count, dtype: int64"
      ]
     },
     "execution_count": 33,
     "metadata": {},
     "output_type": "execute_result"
    }
   ],
   "source": [
    "ab.group.value_counts()"
   ]
  },
  {
   "cell_type": "markdown",
   "id": "9fe7264a-3d47-4bc9-8748-bec23c621228",
   "metadata": {},
   "source": [
    "That`s fine. Now we'll see at the conversion rates of each groups."
   ]
  },
  {
   "cell_type": "code",
   "execution_count": 34,
   "id": "4854c704-36b2-4dd1-ba4e-760bcd0dc1ef",
   "metadata": {},
   "outputs": [
    {
     "data": {
      "text/html": [
       "<style type=\"text/css\">\n",
       "</style>\n",
       "<table id=\"T_1a7eb\">\n",
       "  <thead>\n",
       "    <tr>\n",
       "      <th class=\"blank level0\" >&nbsp;</th>\n",
       "      <th id=\"T_1a7eb_level0_col0\" class=\"col_heading level0 col0\" >mean</th>\n",
       "      <th id=\"T_1a7eb_level0_col1\" class=\"col_heading level0 col1\" >std</th>\n",
       "      <th id=\"T_1a7eb_level0_col2\" class=\"col_heading level0 col2\" >sem</th>\n",
       "    </tr>\n",
       "    <tr>\n",
       "      <th class=\"index_name level0\" >group</th>\n",
       "      <th class=\"blank col0\" >&nbsp;</th>\n",
       "      <th class=\"blank col1\" >&nbsp;</th>\n",
       "      <th class=\"blank col2\" >&nbsp;</th>\n",
       "    </tr>\n",
       "  </thead>\n",
       "  <tbody>\n",
       "    <tr>\n",
       "      <th id=\"T_1a7eb_level0_row0\" class=\"row_heading level0 row0\" >control</th>\n",
       "      <td id=\"T_1a7eb_row0_col0\" class=\"data row0 col0\" >0.118</td>\n",
       "      <td id=\"T_1a7eb_row0_col1\" class=\"data row0 col1\" >0.322</td>\n",
       "      <td id=\"T_1a7eb_row0_col2\" class=\"data row0 col2\" >0.003</td>\n",
       "    </tr>\n",
       "    <tr>\n",
       "      <th id=\"T_1a7eb_level0_row1\" class=\"row_heading level0 row1\" >treatment</th>\n",
       "      <td id=\"T_1a7eb_row1_col0\" class=\"data row1 col0\" >0.123</td>\n",
       "      <td id=\"T_1a7eb_row1_col1\" class=\"data row1 col1\" >0.329</td>\n",
       "      <td id=\"T_1a7eb_row1_col2\" class=\"data row1 col2\" >0.003</td>\n",
       "    </tr>\n",
       "  </tbody>\n",
       "</table>\n"
      ],
      "text/plain": [
       "<pandas.io.formats.style.Styler at 0x20028bff3d0>"
      ]
     },
     "execution_count": 34,
     "metadata": {},
     "output_type": "execute_result"
    }
   ],
   "source": [
    "cr = ab.groupby('group')['converted']\n",
    "cr = cr.agg([np.mean, np.std, st.sem]).copy()\n",
    "cr.style.format('{:.3f}')"
   ]
  },
  {
   "cell_type": "markdown",
   "id": "49dc1672-a363-42c6-aa84-ec7bade338ed",
   "metadata": {},
   "source": [
    "## AB-Test"
   ]
  },
  {
   "cell_type": "markdown",
   "id": "9e62ea81-bb9e-4ccd-a825-37dd16080f48",
   "metadata": {},
   "source": [
    "Let`s remember the hypothesis"
   ]
  },
  {
   "cell_type": "markdown",
   "id": "479dfdf3-feed-489f-bfa7-1c1f1e5db2a1",
   "metadata": {},
   "source": [
    "H0: conversion rate of control group **equals** to conversion rate of treatment group.\n",
    "\n",
    "H1: conversion rate of control verson **does not equal** to conversion rate of treatment group.  \n",
    "\n",
    "We'll use Pearson Chi Stats."
   ]
  },
  {
   "cell_type": "markdown",
   "id": "8107f3d3-0fd3-4397-950e-e795b4491ca2",
   "metadata": {},
   "source": [
    "### Pearson's chi-square test"
   ]
  },
  {
   "cell_type": "markdown",
   "id": "1fde3c19-f6c7-4f4b-ab02-5de85e44979e",
   "metadata": {},
   "source": [
    "Preparing of the table for chi test."
   ]
  },
  {
   "cell_type": "code",
   "execution_count": 38,
   "id": "a8bff10b-0069-4365-8daa-4aaec95a5d75",
   "metadata": {},
   "outputs": [
    {
     "data": {
      "text/html": [
       "<div>\n",
       "<style scoped>\n",
       "    .dataframe tbody tr th:only-of-type {\n",
       "        vertical-align: middle;\n",
       "    }\n",
       "\n",
       "    .dataframe tbody tr th {\n",
       "        vertical-align: top;\n",
       "    }\n",
       "\n",
       "    .dataframe thead th {\n",
       "        text-align: right;\n",
       "    }\n",
       "</style>\n",
       "<table border=\"1\" class=\"dataframe\">\n",
       "  <thead>\n",
       "    <tr style=\"text-align: right;\">\n",
       "      <th>converted</th>\n",
       "      <th>0</th>\n",
       "      <th>1</th>\n",
       "    </tr>\n",
       "    <tr>\n",
       "      <th>group</th>\n",
       "      <th></th>\n",
       "      <th></th>\n",
       "    </tr>\n",
       "  </thead>\n",
       "  <tbody>\n",
       "    <tr>\n",
       "      <th>control</th>\n",
       "      <td>9159</td>\n",
       "      <td>1223</td>\n",
       "    </tr>\n",
       "    <tr>\n",
       "      <th>treatment</th>\n",
       "      <td>9104</td>\n",
       "      <td>1278</td>\n",
       "    </tr>\n",
       "  </tbody>\n",
       "</table>\n",
       "</div>"
      ],
      "text/plain": [
       "converted     0     1\n",
       "group                \n",
       "control    9159  1223\n",
       "treatment  9104  1278"
      ]
     },
     "execution_count": 38,
     "metadata": {},
     "output_type": "execute_result"
    }
   ],
   "source": [
    "table = pd.crosstab(ab.group, ab.converted)\n",
    "table"
   ]
  },
  {
   "cell_type": "code",
   "execution_count": 39,
   "id": "173e2468-e912-4846-bf72-3a726fca24d9",
   "metadata": {},
   "outputs": [
    {
     "name": "stdout",
     "output_type": "stream",
     "text": [
      "fredoom of degree=1\n",
      "[[9131.5 1250.5]\n",
      " [9131.5 1250.5]]\n",
      "probability=0.950, critical=3.841, stat=1.326\n",
      "Independent (fail to reject H0)\n",
      "significance=0.050, p=0.250\n",
      "Independent (fail to reject H0)\n"
     ]
    }
   ],
   "source": [
    "# chi-squared test \n",
    "stat, p, dof, expected = st.chi2_contingency(table)\n",
    "print(\"fredoom of degree=%d\"% dof)\n",
    "print(expected)\n",
    "# interpret test-statistic\n",
    "prob = 0.95\n",
    "critical = st.chi2.ppf(prob, dof)\n",
    "print('probability=%.3f, critical=%.3f, stat=%.3f' % (prob, critical, stat))\n",
    "if abs(stat) >= critical:\n",
    "    print('Dependent (reject H0)')\n",
    "else:\n",
    "    print('Independent (fail to reject H0)')\n",
    "# interpret p-value\n",
    "alpha = 1-prob\n",
    "print('significance=%.3f, p=%.3f' % (alpha, p))\n",
    "if p <= alpha:\n",
    "    print('Dependent (reject H0)')\n",
    "else:\n",
    "    print('Independent (fail to reject H0)')"
   ]
  },
  {
   "cell_type": "markdown",
   "id": "1ae499ff-15c7-4bdb-b189-36a217b97554",
   "metadata": {},
   "source": [
    "Another python library solution"
   ]
  },
  {
   "cell_type": "code",
   "execution_count": 40,
   "id": "aba4bf0a-ecab-4eac-8afb-f2dca1e44fd5",
   "metadata": {},
   "outputs": [
    {
     "name": "stdout",
     "output_type": "stream",
     "text": [
      "Failed to reject H0\n"
     ]
    }
   ],
   "source": [
    "nobs = [control.converted.count(), test.converted.count()]\n",
    "successes = [control.converted.sum(), test.converted.sum()]\n",
    "chi2stat, pval, table = proportion.proportions_chisquare(successes, nobs)\n",
    "\n",
    "alpha = 0.05\n",
    "\n",
    "if pval < alpha:\n",
    "    print('There is no reason to reject H0')\n",
    "else:\n",
    "    print('Failed to reject H0')"
   ]
  },
  {
   "cell_type": "markdown",
   "id": "58da5b7f-0dba-475b-9502-9d455992b138",
   "metadata": {},
   "source": [
    "## Conclusion"
   ]
  },
  {
   "cell_type": "markdown",
   "id": "232b9cce-0141-4228-8e89-e39ba8db9052",
   "metadata": {},
   "source": [
    "There is no reason to reject H0. It means that control and treatment group are significantly similar.  \n",
    "New designed site have no advantages over the old designed site."
   ]
  }
 ],
 "metadata": {
  "kernelspec": {
   "display_name": "Python 3 (ipykernel)",
   "language": "python",
   "name": "python3"
  },
  "language_info": {
   "codemirror_mode": {
    "name": "ipython",
    "version": 3
   },
   "file_extension": ".py",
   "mimetype": "text/x-python",
   "name": "python",
   "nbconvert_exporter": "python",
   "pygments_lexer": "ipython3",
   "version": "3.11.7"
  }
 },
 "nbformat": 4,
 "nbformat_minor": 5
}
